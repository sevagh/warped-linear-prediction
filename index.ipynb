{
 "cells": [
  {
   "cell_type": "markdown",
   "metadata": {},
   "source": [
    "# Warped Linear Prediction\n",
    "\n",
    "This project contains a collection of Jupyter notebooks to demonstrate Warped Linear Prediction techniques in DSP, including filter design and audio codecs.\n",
    "\n",
    "## Motivation\n",
    "\n",
    "I was looking to implement Tolonen and Karjalainen's summary autocorrelation method in \"A computationally efficient multipitch analysis model.\" I needed a WLP pre-whitening filter as a first step to the algorithm. To that end, I gathered as many resources (papers, online lectures, blog posts, etc.) as I could find on Warped Linear Prediction. I chose Jupyter notebooks to show my work and annotate my thought process as I tried to develop an understanding of how to implement WLP.\n",
    "\n",
    "## Results\n",
    "\n",
    "As a final artifact to demonstrate the correct working of the WLP filter, I designed my own version of a WLPAC (Warped Linear Prediction audio codec), loosely based on the Harma and Laine's \"WLPAC - a perceptual audio codec in a nutshell.\""
   ]
  },
  {
   "cell_type": "code",
   "execution_count": 2,
   "metadata": {},
   "outputs": [
    {
     "name": "stdout",
     "output_type": "stream",
     "text": [
      "hello world\n"
     ]
    }
   ],
   "source": [
    "print('hello world')"
   ]
  },
  {
   "cell_type": "code",
   "execution_count": 1,
   "metadata": {},
   "outputs": [
    {
     "name": "stdout",
     "output_type": "stream",
     "text": [
      "hello world\n"
     ]
    }
   ],
   "source": [
    "print('hello world')"
   ]
  },
  {
   "cell_type": "markdown",
   "metadata": {},
   "source": [
    "## Contents\n",
    "\n",
    "1. [First-order all-pass filter](First-order%20all-pass%20filter.html)\n",
    "2. [Higher-order filters and the WFIR](Higher-order%20filters%20and%20the%20WFIR.html)\n",
    "4. [Why warp? A brief introduction to psychoacoustics](Why%20warp%3F%20A%20brief%20introduction%20to%20psychoacoustics.html)\n",
    "5. [Listening tests, speech and music](Listening%20tests%2C%20speech%20and%20music.html)\n",
    "6. [Reconstructing the original signal](Reconstructing%20the%20original%20signal.html)\n",
    "\n",
    "Use this project for:\n",
    "\n",
    "* Filter basics: transfer functions, the z<sup>-1</sup>-transform, frequency response, impulse response, etc.\n",
    "* Scipy/numpy/matplotlib DSP: applying filters to audio signals, plotting spectrograms, etc.\n",
    "* Basic algebra on transfer function polynomials, and some numpy poly1d\n",
    "* Signal quantization and the design of an arbitrary audio codec\n",
    "\n",
    "The [repository](https://github.com/sevagh/warped-linear-prediction) is MIT-licensed so you can borrow code at will. Error reports and feedback are welcome and appreciated via [GitHub issues](https://github.com/sevagh/warped-linear-prediction/issues)."
   ]
  }
 ],
 "metadata": {
  "kernelspec": {
   "display_name": "Python 3",
   "language": "python",
   "name": "python3"
  },
  "language_info": {
   "codemirror_mode": {
    "name": "ipython",
    "version": 3
   },
   "file_extension": ".py",
   "mimetype": "text/x-python",
   "name": "python",
   "nbconvert_exporter": "python",
   "pygments_lexer": "ipython3",
   "version": "3.7.3"
  }
 },
 "nbformat": 4,
 "nbformat_minor": 2
}
